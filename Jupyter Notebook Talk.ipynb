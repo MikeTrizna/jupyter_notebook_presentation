{
 "cells": [
  {
   "cell_type": "markdown",
   "metadata": {},
   "source": [
    "\n",
    "# A Demonstration of Jupyter Notebooks\n",
    "\n",
    "<div class=\"clearfix\" style=\"padding: 10px; padding-left: 0px\">\n",
    "<img src=\"https://raw.githubusercontent.com/jupyter/nature-demo/master/images/jupyter-logo.png\" width=\"150px\">\n",
    "</div>"
   ]
  },
  {
   "cell_type": "markdown",
   "metadata": {
    "collapsed": true
   },
   "source": [
    "Roadmap for workflow:\n",
    "* Get lay of the land\n",
    "* Build a custom BLAST database to verify identity\n",
    "* Investigate one of these sequences closer by building a tree\n",
    "* Get the specimen data spreadsheet ready for GenBank upload"
   ]
  },
  {
   "cell_type": "markdown",
   "metadata": {},
   "source": [
    "## Get the lay of the land"
   ]
  },
  {
   "cell_type": "markdown",
   "metadata": {},
   "source": [
    "In a Jupyter notebook, you can run shell commands directly by leading with a \"!\". Here we'll run the *pwd* command to check our current directory."
   ]
  },
  {
   "cell_type": "code",
   "execution_count": 7,
   "metadata": {
    "collapsed": false
   },
   "outputs": [
    {
     "name": "stdout",
     "output_type": "stream",
     "text": [
      "/Users/miketrizna/Dropbox (Smithsonian)/genomic_tools_talk\r\n"
     ]
    }
   ],
   "source": [
    "!pwd"
   ]
  },
  {
   "cell_type": "code",
   "execution_count": 8,
   "metadata": {
    "collapsed": false
   },
   "outputs": [
    {
     "name": "stdout",
     "output_type": "stream",
     "text": [
      "total 35488\r\n",
      "drwxr-xr-x@ 12 miketrizna  staff       408 Mar 24 13:05 \u001b[34m.\u001b[m\u001b[m\r\n",
      "drwx------@ 35 miketrizna  staff      1190 Mar 24 12:57 \u001b[34m..\u001b[m\u001b[m\r\n",
      "-rw-r--r--@  1 miketrizna  staff     12292 Mar 24 12:54 .DS_Store\r\n",
      "drwxr-xr-x@  4 miketrizna  staff       136 Mar 24 12:54 \u001b[34m.ipynb_checkpoints\u001b[m\u001b[m\r\n",
      "-rw-r--r--@  1 miketrizna  staff      2349 Mar 24 12:33 Bash and R testing.ipynb\r\n",
      "-rw-r--r--@  1 miketrizna  staff     57746 Mar 24 13:05 First Draft of Talk.ipynb\r\n",
      "-rw-r--r--@  1 miketrizna  staff  17981114 Mar 24 09:12 all_bird_coi.fasta\r\n",
      "drwxr-xr-x@  9 miketrizna  staff       306 Mar 24 12:10 \u001b[34manalysis\u001b[m\u001b[m\r\n",
      "drwxr-xr-x@ 21 miketrizna  staff       714 Mar 24 10:15 \u001b[34mblast_db\u001b[m\u001b[m\r\n",
      "-rw-r--r--@  1 miketrizna  staff    102893 Mar 23 15:38 gbif_djibouti_birds.csv\r\n",
      "drwxr-xr-x@ 10 miketrizna  staff       340 Mar 24 12:37 \u001b[34mgenbank_upload\u001b[m\u001b[m\r\n",
      "drwxr-xr-x@  3 miketrizna  staff       102 Mar 24 10:31 \u001b[34moriginal_data\u001b[m\u001b[m\r\n"
     ]
    }
   ],
   "source": [
    "!ls -al"
   ]
  },
  {
   "cell_type": "markdown",
   "metadata": {},
   "source": [
    "In addition to with the \"!\", we can run bash commands by starting a cell with \"%%bash\"."
   ]
  },
  {
   "cell_type": "code",
   "execution_count": 10,
   "metadata": {
    "collapsed": false
   },
   "outputs": [
    {
     "name": "stdout",
     "output_type": "stream",
     "text": [
      "total 8\n",
      "drwxr-xr-x@  3 miketrizna  staff   102 Mar 24 10:31 .\n",
      "drwxr-xr-x@ 12 miketrizna  staff   408 Mar 24 13:09 ..\n",
      "-rw-r--r--@  1 miketrizna  staff  3421 Mar 24 10:26 five_barcodes.fasta\n"
     ]
    }
   ],
   "source": [
    "%%bash\n",
    "ls -al original_data"
   ]
  },
  {
   "cell_type": "markdown",
   "metadata": {},
   "source": [
    "Furthermore, we can create python variables, and then bring them into the bash cells by initializing with \"-s\""
   ]
  },
  {
   "cell_type": "code",
   "execution_count": 22,
   "metadata": {
    "collapsed": true
   },
   "outputs": [],
   "source": [
    "input_sequences = \"original_data/five_barcodes.fasta\"\n",
    "input_specimen_data = \"original_data/barcode_specimen_data.tsv\""
   ]
  },
  {
   "cell_type": "code",
   "execution_count": 14,
   "metadata": {
    "collapsed": false
   },
   "outputs": [
    {
     "name": "stdout",
     "output_type": "stream",
     "text": [
      ">647813|Ciconia_abdimii\r\n",
      "ACCTTATACTTGATCTTCGGAGCATGAGCCGGCATAGTCGGAACCGCCCTCAGCCTCCTTATTCGTGCAGAACTTGGCCAACCAGGGACCCTCTTAGGAGACGACCAAATCTATAACGTAATCGTCACCGCCCATGCCTTCGTAATAATCTTCTTCATAGTCATACCAATCATAATCGGAGGATTCGGAAACTGATTAGTCCCGCTCATAATTGGTGCCCCAGACATAGCATTCCCACGCATAAACAACATAAGCTTCTGATTACTACCCCCATCCTTCTTACTCCTACTGGCCTCCTCCACAGTAGAAGCAGGAGCAGGTACAGGATGGACCGTATACCCTCCCCTAGCCGGCAATCTAGCCCACGCTGGAGCTTCAGTAGACCTAGCCATCTTCTCCCTCCACCTAGCAGGTGTATCCTCAATTCTCGGAGCGATCAACTTTATCACAACTGCCATCAACATAAAACCTCCTGCCCTATCACAATACCAAACCCCCCTATTCGTATGGTCCGTCCTCATCACCGCTGTCCTCCTACTACTATCACTCCCAGTCCTTGCTGCTGGCATCACCATGCTACTAACAGATCGAAACCTAAACACCACATTCTTTGACCCCGCTGGAGGAGGAGACCCTGTCCTATACCAGCACCTCTTC\r\n",
      ">647841|Pluvialis_squatarola\r\n",
      "ACCCTATACCTAATCTTCGGTGCATGAGCTGGTATAGTCGGTACCGCCCTTAGCCTACTCATCCGCGCAGAACTCGGTCAACCAGGTACCCTACTAGGAGACGACCAAATCTACAATGTAATTGTTACCGCCCATGCCTTCGTAATAATCTTCTTCATAGTCATGCCAATCATGATTGGAGGCTTTGGAAACTGACTAGTACCACTCATAATTGGTGCCCCCGACATAGCATTTCCCCGCATAAACAACATAAGCTTCTGGCTACTTCCCCCATCGTTCCTACTCCTCCTTGCCTCCTCCACAGTAGAAGCCGGAGCAGGTACAGGATGAACTGTATACCCTCCCCTAGCTGGCAACCTAGCTCACGCCGGAGCCTCAGTTGACCTAGCTATTTTTTCCCTCCACCTAGCAGGTGTATCATCAATCCTAGGTGCAATCAACTTCATCACAACCGCCATCAACATAAAACCCCCTGCCCTATCACAATACCAAACTCCCCTATTTGTATGATCCGTCCTCATCACCGCCGTCCTATTACTCCTCTCACTCCCAGTTCTCGCTGCTGGCATCACAATGCTGCTAACAGACCGAAACCTAAACACCACATTCTTCGACCCCGCCGGAGGCGGAGATCCAGTCCTATATCAACACCTCTTC\r\n"
     ]
    }
   ],
   "source": [
    "%%bash -s \"$input_sequences\"\n",
    "head -n 4 $1"
   ]
  },
  {
   "cell_type": "markdown",
   "metadata": {},
   "source": [
    "## Build a custom BLAST database to verify identity"
   ]
  },
  {
   "cell_type": "markdown",
   "metadata": {},
   "source": [
    "In a lot of DNA barcoding projects, we already know the identity of the tissues before sequencing, so we BLAST our sequences against GenBank to confirm we didn't have contamination, or flag specimens that take a closer look at. We could BLAST against the full GenBank database, but that can take a long time. Since we already know the region sequenced (mitochondrial COI gene), and the general taxonomic group (Birds), let's create our own local BLAST database.\n",
    "\n",
    "We're going to be using the Entrez Direct command line tools to grab these sequences. You can read about them here: http://www.ncbi.nlm.nih.gov/books/NBK179288/"
   ]
  },
  {
   "cell_type": "code",
   "execution_count": 15,
   "metadata": {
    "collapsed": false
   },
   "outputs": [
    {
     "data": {
      "text/html": [
       "\n",
       "        <iframe\n",
       "            width=\"90%\"\n",
       "            height=\"350\"\n",
       "            src=\"http://www.ncbi.nlm.nih.gov/books/NBK179288/\"\n",
       "            frameborder=\"0\"\n",
       "            allowfullscreen\n",
       "        ></iframe>\n",
       "        "
      ],
      "text/plain": [
       "<IPython.lib.display.IFrame at 0x11906f190>"
      ]
     },
     "execution_count": 15,
     "metadata": {},
     "output_type": "execute_result"
    }
   ],
   "source": [
    "from IPython.display import IFrame\n",
    "IFrame('http://www.ncbi.nlm.nih.gov/books/NBK179288/', width='90%', height=350)"
   ]
  },
  {
   "cell_type": "markdown",
   "metadata": {},
   "source": [
    "Since we're going to be refering to these input and output files a lot during this demo, let's just put them into variables now."
   ]
  },
  {
   "cell_type": "code",
   "execution_count": 17,
   "metadata": {
    "collapsed": true
   },
   "outputs": [],
   "source": [
    "blast_db_fasta = \"blast_db/all_bird_coi.fasta\"\n",
    "\n",
    "blast_db_title = \"all_bird_coi\"\n",
    "blast_db_location = \"blast_db/\" + blast_db_title"
   ]
  },
  {
   "cell_type": "markdown",
   "metadata": {},
   "source": [
    "**SKIP RUNNING THIS CELL BELOW DURING LIVE DEMO**\n",
    "\n",
    "Here, we use the *esearch* tool to search the NCBI \"nuccore\" database, with a query for all COI gene sequences that are less than 1000 base pairs (so that we don't grab full mitochondria) from the class Aves. We then pipe the search results into the *efetch* tool, and tell it we want our data in FASTA format, and finally save it all to the \"all_bird_coi.fasta\" file that we just named.\n"
   ]
  },
  {
   "cell_type": "code",
   "execution_count": 9,
   "metadata": {
    "collapsed": false
   },
   "outputs": [],
   "source": [
    "%%bash -s \"$blast_db_fasta\"\n",
    "esearch -db nuccore -query \"Aves[ORGANISM] AND COI[GENE] AND 0:1000[SLEN]\" \\\n",
    "        -datetype PDAT -mindate 1990 -maxdate 2015 | \\\n",
    "efetch -format fasta | \\\n",
    "grep \".\" > \\\n",
    "$1"
   ]
  },
  {
   "cell_type": "markdown",
   "metadata": {},
   "source": [
    "Ok, now that we've grabbed all bird COI sequences into a FASTA file, let's check to make sure it worked correctly. This strange \"grep\" and \"wc\" command counts the number of \">\" characters in a file, which we can use to count the number of sequences in a FASTA-format file."
   ]
  },
  {
   "cell_type": "code",
   "execution_count": 13,
   "metadata": {
    "collapsed": false
   },
   "outputs": [
    {
     "name": "stdout",
     "output_type": "stream",
     "text": [
      "   24121\n"
     ]
    }
   ],
   "source": [
    "%%bash -s \"$blast_db_fasta\"\n",
    "grep \">\" -o $1 | wc -l"
   ]
  },
  {
   "cell_type": "code",
   "execution_count": 14,
   "metadata": {
    "collapsed": false
   },
   "outputs": [
    {
     "name": "stdout",
     "output_type": "stream",
     "text": [
      ">gi|817250091|emb|LN734648.1| Cuculus canorus mitochondrial partial COI gene for cytochrome oxidase subunit 1, specimen voucher NHMUK 1996-1-126\n",
      "TAAAACCTCCCGCACTGTCTCAATACCAAACACCCCTATTCGTATGATCAGTACTTATCACCGCTGTCCT\n",
      "ACTCCTATTATCTCTACCCGTACTAGCCGCTGGCATCACGATACTACTAACAGACCGCAACCTAAACACC\n",
      "ACATTCTTCGACCCAGCAG\n",
      ">gi|817250088|emb|LN734647.1| Cuculus canorus mitochondrial partial COI gene for cytochrome oxidase subunit 1, specimen voucher NHMUK 1925-12-15-5852\n",
      "TAAAACCTCCCGCACTGTCTCAATACCAAACACCCCTATTCGTATGATCAGTACTTATCACCGCTGTCCT\n",
      "ACTCCTATTATCTCTACCCGTACTAGCCGCTGGCATCACGATACTACTAACAGACCGCAACCTAAACACC\n",
      "ACATTCTTCGACCCAGCAG\n",
      ">gi|817250084|emb|LN734646.1| Cuculus canorus mitochondrial partial COI gene for cytochrome oxidase subunit 1, specimen voucher NHMUK Baker-Box48-D2\n",
      "TAAAACCTCCCGCACTGTCTCAATACCAAACACCCCTATTCGTATGATCAGTACTTATCACCGCTGTCCT\n"
     ]
    }
   ],
   "source": [
    "%%bash -s \"$blast_db_fasta\"\n",
    "head $1"
   ]
  },
  {
   "cell_type": "markdown",
   "metadata": {},
   "source": [
    "Ok, now that we've got our FASTA in place, let's move on to making a custom database from it. We'll use the BLAST+ tool *makeblastdb* to do this."
   ]
  },
  {
   "cell_type": "code",
   "execution_count": 16,
   "metadata": {
    "collapsed": false
   },
   "outputs": [
    {
     "name": "stdout",
     "output_type": "stream",
     "text": [
      "USAGE\r\n",
      "  makeblastdb [-h] [-help] [-in input_file] [-input_type type]\r\n",
      "    -dbtype molecule_type [-title database_title] [-parse_seqids]\r\n",
      "    [-hash_index] [-mask_data mask_data_files] [-mask_id mask_algo_ids]\r\n",
      "    [-mask_desc mask_algo_descriptions] [-gi_mask]\r\n",
      "    [-gi_mask_name gi_based_mask_names] [-out database_name]\r\n",
      "    [-max_file_sz number_of_bytes] [-logfile File_Name] [-taxid TaxID]\r\n",
      "    [-taxid_map TaxIDMapFile] [-version]\r\n",
      "\r\n",
      "DESCRIPTION\r\n",
      "   Application to create BLAST databases, version 2.2.31+\r\n",
      "\r\n",
      "Use '-help' to print detailed descriptions of command line arguments\r\n"
     ]
    }
   ],
   "source": [
    "!makeblastdb -h"
   ]
  },
  {
   "cell_type": "markdown",
   "metadata": {
    "collapsed": true
   },
   "source": [
    "Here we create the custom BLAST database, and save it to the \"blast_db\" directory."
   ]
  },
  {
   "cell_type": "code",
   "execution_count": 18,
   "metadata": {
    "collapsed": false
   },
   "outputs": [
    {
     "name": "stdout",
     "output_type": "stream",
     "text": [
      "\n",
      "\n",
      "Building a new DB, current time: 03/24/2016 13:21:19\n",
      "New DB name:   /Users/miketrizna/Dropbox (Smithsonian)/genomic_tools_talk/blast_db/all_bird_coi\n",
      "New DB title:  all_bird_coi\n",
      "Sequence type: Nucleotide\n",
      "Keep Linkouts: T\n",
      "Keep MBits: T\n",
      "Maximum file size: 1000000000B\n",
      "Adding sequences from FASTA; added 22901 sequences in 1.26028 seconds.\n"
     ]
    }
   ],
   "source": [
    "%%bash -s \"$blast_db_fasta\" \"$blast_db_title\" \"$blast_db_location\"\n",
    "makeblastdb -in $1 -parse_seqids -dbtype nucl -title $2 -out $3"
   ]
  },
  {
   "cell_type": "markdown",
   "metadata": {},
   "source": [
    "Awesome, now the custom blast database has been built, and it's location is in a bunch of files in the \"blast_db\" directory."
   ]
  },
  {
   "cell_type": "code",
   "execution_count": 19,
   "metadata": {
    "collapsed": false
   },
   "outputs": [
    {
     "name": "stdout",
     "output_type": "stream",
     "text": [
      "total 52944\r\n",
      "drwxr-xr-x@ 12 miketrizna  staff       408 Mar 24 13:21 \u001b[34m.\u001b[m\u001b[m\r\n",
      "drwxr-xr-x@ 12 miketrizna  staff       408 Mar 24 13:19 \u001b[34m..\u001b[m\u001b[m\r\n",
      "-rw-r--r--@  1 miketrizna  staff      6148 Mar 24 13:21 .DS_Store\r\n",
      "-rw-r--r--@  1 miketrizna  staff  18060240 Mar 24 09:26 all_bird_coi.fasta\r\n",
      "-rw-r--r--@  1 miketrizna  staff   4024666 Mar 24 13:21 all_bird_coi.nhr\r\n",
      "-rw-r--r--@  1 miketrizna  staff    274896 Mar 24 13:21 all_bird_coi.nin\r\n",
      "-rw-r--r--@  1 miketrizna  staff    183208 Mar 24 13:21 all_bird_coi.nnd\r\n",
      "-rw-r--r--@  1 miketrizna  staff       764 Mar 24 13:21 all_bird_coi.nni\r\n",
      "-rw-r--r--@  1 miketrizna  staff     91636 Mar 24 13:21 all_bird_coi.nog\r\n",
      "-rw-r--r--@  1 miketrizna  staff    711026 Mar 24 13:21 all_bird_coi.nsd\r\n",
      "-rw-r--r--@  1 miketrizna  staff     16661 Mar 24 13:21 all_bird_coi.nsi\r\n",
      "-rw-r--r--@  1 miketrizna  staff   3714235 Mar 24 13:21 all_bird_coi.nsq\r\n"
     ]
    }
   ],
   "source": [
    "! ls -al blast_db"
   ]
  },
  {
   "cell_type": "markdown",
   "metadata": {},
   "source": [
    "Finally, let's BLAST our original FASTA file against the custom database we just built.\n",
    "\n",
    "The newer version of BLAST include a really helpful feature where we can make the results go into a tab-delimited table (outfmt 6), and we can specify the columns we want to see. Here we specify the Query Sequence ID (qseqid), Subject Accession (sacc), Subject Title (stitle), Percent Identity (pident), and Alignment Length (length)."
   ]
  },
  {
   "cell_type": "code",
   "execution_count": 28,
   "metadata": {
    "collapsed": true
   },
   "outputs": [],
   "source": [
    "blast_results_location = \"analysis/blast_results.tsv\""
   ]
  },
  {
   "cell_type": "code",
   "execution_count": 29,
   "metadata": {
    "collapsed": false
   },
   "outputs": [],
   "source": [
    "%%bash -s \"$input_sequences\" \"$blast_db_location\" \"$blast_results_location\"\n",
    "blastn -query $1 -db $2 -out $3 \\\n",
    "       -max_target_seqs 5 \\\n",
    "       -outfmt \"6 qseqid sacc stitle pident length\""
   ]
  },
  {
   "cell_type": "code",
   "execution_count": 31,
   "metadata": {
    "collapsed": false
   },
   "outputs": [
    {
     "name": "stdout",
     "output_type": "stream",
     "text": [
      "647813|Ciconia_abdimii\tJQ174455\tCiconia maguari voucher USNM:Birds:635735 cytochrome oxidase subunit 1 (COI) gene, partial cds; mitochondrial\t92.77\t650\n",
      "647813|Ciconia_abdimii\tJQ174456\tCiconia maguari voucher USNM:Birds:614527 cytochrome oxidase subunit 1 (COI) gene, partial cds; mitochondrial\t92.77\t650\n",
      "647813|Ciconia_abdimii\tJQ174457\tCiconia maguari voucher USNM:Birds:614526 cytochrome oxidase subunit 1 (COI) gene, partial cds; mitochondrial\t92.77\t650\n",
      "647813|Ciconia_abdimii\tJQ174458\tCiconia maguari voucher USNM:Birds:635750 cytochrome oxidase subunit 1 (COI) gene, partial cds; mitochondrial\t92.77\t650\n",
      "647813|Ciconia_abdimii\tFJ027377\tCiconia maguari voucher MACN-Or-ct 2356 cytochrome oxidase subunit 1 (COI) gene, partial cds; mitochondrial\t92.87\t645\n",
      "647841|Pluvialis_squatarola\tGQ482511\tPluvialis squatarola voucher UWBM 43964 cytochrome oxidase subunit 1 (COI) gene, partial cds; mitochondrial\t100.00\t655\n",
      "647841|Pluvialis_squatarola\tGQ482512\tPluvialis squatarola voucher UWBM 44500 cytochrome oxidase subunit 1 (COI) gene, partial cds; mitochondrial\t99.85\t655\n",
      "647841|Pluvialis_squatarola\tGQ482513\tPluvialis squatarola voucher UWBM 51608 cytochrome oxidase subunit 1 (COI) gene, partial cds; mitochondrial\t99.85\t655\n",
      "647841|Pluvialis_squatarola\tGQ482514\tPluvialis squatarola voucher UWBM 43963 cytochrome oxidase subunit 1 (COI) gene, partial cds; mitochondrial\t99.85\t655\n",
      "647841|Pluvialis_squatarola\tDQ433124\tPluvialis squatarola voucher USNM 626535 cytochrome oxidase subunit 1 (COI) gene, partial cds; mitochondrial\t99.85\t652\n"
     ]
    }
   ],
   "source": [
    "%%bash -s \"$blast_results_location\"\n",
    "head $1"
   ]
  },
  {
   "cell_type": "code",
   "execution_count": 35,
   "metadata": {
    "collapsed": true
   },
   "outputs": [],
   "source": [
    "# Use a little bit of Python csv parsing to cycle through results and highlight mismatches\n",
    "import csv\n",
    "import pandas as pd"
   ]
  },
  {
   "cell_type": "markdown",
   "metadata": {},
   "source": [
    "## Investigate one of these sequences closer by building a tree"
   ]
  },
  {
   "cell_type": "markdown",
   "metadata": {
    "collapsed": true
   },
   "source": [
    "Since that first Ciconia sequence seems a little bit off, let's grab all of the Ciconia COI sequences from GenBank to see if our sequence is falling in the proper place."
   ]
  },
  {
   "cell_type": "code",
   "execution_count": 29,
   "metadata": {
    "collapsed": true
   },
   "outputs": [],
   "source": [
    "ciconia_tsv = \"analysis/all_ciconia_coi.tsv\"\n",
    "ciconia_fasta = \"analysis/all_ciconia_coi.fasta\""
   ]
  },
  {
   "cell_type": "code",
   "execution_count": 33,
   "metadata": {
    "collapsed": false
   },
   "outputs": [],
   "source": [
    "%%bash -s \"$ciconia_tsv\"\n",
    "esearch -db nuccore -query \"Ciconia[ORGANISM] AND COI[GENE] AND 0:1000[SLEN]\" \\\n",
    "        -datetype PDAT -mindate 1990 -maxdate 2015 | \\\n",
    "efetch -format fasta -mode xml | \\\n",
    "xtract -pattern TSeq -element TSeq_accver TSeq_orgname TSeq_sequence \\\n",
    "> $1"
   ]
  },
  {
   "cell_type": "markdown",
   "metadata": {},
   "source": [
    "Since the edirect *xtract* utility will only output into a Tab-delimited text file, we'll need to use a little scripting to convert that to FASTA format."
   ]
  },
  {
   "cell_type": "code",
   "execution_count": 40,
   "metadata": {
    "collapsed": false
   },
   "outputs": [],
   "source": [
    "with open(ciconia_fasta,'wb') as fasta_out:\n",
    "    with open(ciconia_tsv,'rb') as tsv_in:\n",
    "        reader = csv.reader(tsv_in, delimiter=\"\\t\")\n",
    "        for row in reader:\n",
    "            accession, org_name, sequence = row[0],row[1],row[2]\n",
    "            org_name = org_name.replace(\" \",\"_\")\n",
    "            fasta_entry = \">{accession}|{org_name}\\n{sequence}\\n\".format(accession=accession,\n",
    "                                                                         org_name=org_name,\n",
    "                                                                         sequence=sequence)\n",
    "            fasta_out.write(fasta_entry)"
   ]
  },
  {
   "cell_type": "markdown",
   "metadata": {},
   "source": [
    "Now we need to add the first sequence from our original FASTA (all in the first 2 lines) to the end of the Ciconia FASTA we just built."
   ]
  },
  {
   "cell_type": "code",
   "execution_count": 30,
   "metadata": {
    "collapsed": false
   },
   "outputs": [],
   "source": [
    "%%bash -s \"$input_sequences\" \"$ciconia_fasta\"\n",
    "head -n 2 $1 >> $2"
   ]
  },
  {
   "cell_type": "markdown",
   "metadata": {},
   "source": [
    "Ok, now that we have all known Ciconia COI sequences, and our suspect sequence in one file, let's align it and then make a tree. We'll use *muscle* to run the alignment."
   ]
  },
  {
   "cell_type": "code",
   "execution_count": 1,
   "metadata": {
    "collapsed": true
   },
   "outputs": [],
   "source": [
    "aligned_fasta = \"analysis/ciconia_aligned.fasta\""
   ]
  },
  {
   "cell_type": "code",
   "execution_count": 41,
   "metadata": {
    "collapsed": false
   },
   "outputs": [
    {
     "name": "stderr",
     "output_type": "stream",
     "text": [
      "\n",
      "MUSCLE v3.8.1551 by Robert C. Edgar\n",
      "\n",
      "http://www.drive5.com/muscle\n",
      "This software is donated to the public domain.\n",
      "Please cite: Edgar, R.C. Nucleic Acids Res 32(5), 1792-97.\n",
      "\n",
      "all_ciconia_coi 14 seqs, lengths min 648, max 674, avg 652\n",
      "00:00:00      1 MB(0%)  Iter   1    0.95%  K-mer dist pass 1\r",
      "00:00:00      1 MB(0%)  Iter   1  100.00%  K-mer dist pass 1\r\n",
      "00:00:00      1 MB(0%)  Iter   1    0.95%  K-mer dist pass 2\r",
      "00:00:00      1 MB(0%)  Iter   1  100.00%  K-mer dist pass 2\r\n",
      "00:00:00      2 MB(0%)  Iter   1    7.69%  Align node       \r",
      "00:00:00      4 MB(0%)  Iter   1   15.38%  Align node\r",
      "00:00:00      4 MB(0%)  Iter   1   23.08%  Align node\r",
      "00:00:00      4 MB(0%)  Iter   1   30.77%  Align node\r",
      "00:00:00      5 MB(0%)  Iter   1   38.46%  Align node\r",
      "00:00:00      5 MB(0%)  Iter   1   46.15%  Align node\r",
      "00:00:00      6 MB(0%)  Iter   1   53.85%  Align node\r",
      "00:00:00      6 MB(0%)  Iter   1   61.54%  Align node\r",
      "00:00:00      7 MB(0%)  Iter   1   69.23%  Align node\r",
      "00:00:00      7 MB(0%)  Iter   1   76.92%  Align node\r",
      "00:00:00      7 MB(0%)  Iter   1   84.62%  Align node\r",
      "00:00:00      7 MB(0%)  Iter   1   92.31%  Align node\r",
      "00:00:00      8 MB(0%)  Iter   1  100.00%  Align node\r",
      "00:00:00      8 MB(0%)  Iter   1  100.00%  Align node\r\n",
      "00:00:00      8 MB(0%)  Iter   1    7.14%  Root alignment\r",
      "00:00:00      8 MB(0%)  Iter   1   14.29%  Root alignment\r",
      "00:00:00      8 MB(0%)  Iter   1   21.43%  Root alignment\r",
      "00:00:00      8 MB(0%)  Iter   1   28.57%  Root alignment\r",
      "00:00:00      8 MB(0%)  Iter   1   35.71%  Root alignment\r",
      "00:00:00      8 MB(0%)  Iter   1   42.86%  Root alignment\r",
      "00:00:00      8 MB(0%)  Iter   1   50.00%  Root alignment\r",
      "00:00:00      8 MB(0%)  Iter   1   57.14%  Root alignment\r",
      "00:00:00      8 MB(0%)  Iter   1   64.29%  Root alignment\r",
      "00:00:00      8 MB(0%)  Iter   1   71.43%  Root alignment\r",
      "00:00:00      8 MB(0%)  Iter   1   78.57%  Root alignment\r",
      "00:00:00      8 MB(0%)  Iter   1   85.71%  Root alignment\r",
      "00:00:00      8 MB(0%)  Iter   1   92.86%  Root alignment\r",
      "00:00:00      8 MB(0%)  Iter   1  100.00%  Root alignment\r",
      "00:00:00      8 MB(0%)  Iter   1  100.00%  Root alignment\r\n",
      "00:00:00      8 MB(0%)  Iter   2  100.00%  Root alignment\r\n",
      "00:00:00      8 MB(0%)  Iter   3    8.00%  Refine biparts\r",
      "00:00:00      8 MB(0%)  Iter   3   12.00%  Refine biparts\r",
      "00:00:00      8 MB(0%)  Iter   3   16.00%  Refine biparts\r",
      "00:00:00      8 MB(0%)  Iter   3   20.00%  Refine biparts\r",
      "00:00:00      8 MB(0%)  Iter   3   24.00%  Refine biparts\r",
      "00:00:00      8 MB(0%)  Iter   3   28.00%  Refine biparts\r",
      "00:00:00      8 MB(0%)  Iter   3   32.00%  Refine biparts\r",
      "00:00:00      9 MB(0%)  Iter   3   36.00%  Refine biparts\r",
      "00:00:00      9 MB(0%)  Iter   3   40.00%  Refine biparts\r",
      "00:00:00      9 MB(0%)  Iter   3   44.00%  Refine biparts\r",
      "00:00:00      9 MB(0%)  Iter   3   48.00%  Refine biparts\r",
      "00:00:00      9 MB(0%)  Iter   3   52.00%  Refine biparts\r",
      "00:00:00      9 MB(0%)  Iter   3   56.00%  Refine biparts\r",
      "00:00:00      9 MB(0%)  Iter   3   60.00%  Refine biparts\r",
      "00:00:00      9 MB(0%)  Iter   3   64.00%  Refine biparts\r",
      "00:00:00      9 MB(0%)  Iter   3   68.00%  Refine biparts\r",
      "00:00:00      9 MB(0%)  Iter   3   72.00%  Refine biparts\r",
      "00:00:00      9 MB(0%)  Iter   3   76.00%  Refine biparts\r",
      "00:00:01      9 MB(0%)  Iter   3   80.00%  Refine biparts\r",
      "00:00:01      9 MB(0%)  Iter   3   84.00%  Refine biparts\r",
      "00:00:01      9 MB(0%)  Iter   3   88.00%  Refine biparts\r",
      "00:00:01      9 MB(0%)  Iter   3   92.00%  Refine biparts\r",
      "00:00:01      9 MB(0%)  Iter   3   96.00%  Refine biparts\r",
      "00:00:01      9 MB(0%)  Iter   3  100.00%  Refine biparts\r",
      "00:00:01      9 MB(0%)  Iter   3  104.00%  Refine biparts\r",
      "00:00:01      9 MB(0%)  Iter   3  100.00%  Refine biparts\r\n"
     ]
    }
   ],
   "source": [
    "%%bash -s \"$ciconia_fasta\" \"$aligned_fasta\"\n",
    "muscle -in $1 -out $2"
   ]
  },
  {
   "cell_type": "markdown",
   "metadata": {
    "collapsed": true
   },
   "source": [
    "**Use BioJup widget to visualize multiple alignment**"
   ]
  },
  {
   "cell_type": "markdown",
   "metadata": {},
   "source": [
    "Now we use *fasttree* to take the alignment, and produce a quick neighbor-joining tree."
   ]
  },
  {
   "cell_type": "code",
   "execution_count": 4,
   "metadata": {
    "collapsed": true
   },
   "outputs": [],
   "source": [
    "tree_file = \"analysis/ciconia_tree.newick\""
   ]
  },
  {
   "cell_type": "code",
   "execution_count": 45,
   "metadata": {
    "collapsed": false
   },
   "outputs": [
    {
     "name": "stderr",
     "output_type": "stream",
     "text": [
      "FastTree Version 2.1.8 Double precision (No SSE3)\n",
      "Alignment: analysis/ciconia_aligned.fasta\n",
      "Nucleotide distances: Jukes-Cantor Joins: balanced Support: SH-like 1000\n",
      "Search: Normal +NNI +SPR (2 rounds range 10) +ML-NNI opt-each=1\n",
      "TopHits: 1.00*sqrtN close=default refresh=0.80\n",
      "ML Model: Jukes-Cantor, CAT approximation with 20 rate categories\n",
      "Ignored unknown character X (seen 2 times)\n",
      "Initial topology in 0.00 seconds\n",
      "Refining topology: 11 rounds ME-NNIs, 2 rounds ME-SPRs, 6 rounds ML-NNIs\n",
      "Total branch-length 0.174 after 0.01 sec\n",
      "ML-NNI round 1: LogLk = -1856.072 NNIs 0 max delta 0.00 Time 0.02\n",
      "Switched to using 20 rate categories (CAT approximation)\n",
      "Rate categories were divided by 0.651 so that average rate = 1.0\n",
      "CAT-based log-likelihoods may not be comparable across runs\n",
      "Use -gamma for approximate but comparable Gamma(20) log-likelihoods\n",
      "ML-NNI round 2: LogLk = -1818.450 NNIs 0 max delta 0.00 Time 0.02\n",
      "Turning off heuristics for final round of ML NNIs (converged)\n",
      "ML-NNI round 3: LogLk = -1818.449 NNIs 0 max delta 0.00 Time 0.03 (final)\n",
      "Optimize all lengths: LogLk = -1818.449 Time 0.04\n",
      "Total time: 0.07 seconds Unique: 7/14 Bad splits: 0/4\n"
     ]
    }
   ],
   "source": [
    "%%bash -s \"$aligned_fasta\" \"$tree_file\"\n",
    "fasttree -nt $1 > $2"
   ]
  },
  {
   "cell_type": "markdown",
   "metadata": {},
   "source": [
    "Next, we'll use the ETE Python Toolkit to generate a tree right here in the Notebook. Here's a link to ETE: http://etetoolkit.org/"
   ]
  },
  {
   "cell_type": "code",
   "execution_count": 5,
   "metadata": {
    "collapsed": false
   },
   "outputs": [],
   "source": [
    "# Use ete3 to load that tree, style our target sequence node to stand out, and then output tree\n",
    "from ete3 import Tree, TreeStyle\n",
    "\n",
    "t = Tree(newick = tree_file)"
   ]
  },
  {
   "cell_type": "code",
   "execution_count": 6,
   "metadata": {
    "collapsed": false
   },
   "outputs": [
    {
     "data": {
      "image/png": "[encoded data removed]",
      "text/plain": [
       "<IPython.core.display.Image object>"
      ]
     },
     "execution_count": 6,
     "metadata": {},
     "output_type": "execute_result"
    }
   ],
   "source": [
    "ts = TreeStyle()\n",
    "t.render(\"%%inline\",tree_style=ts)"
   ]
  },
  {
   "cell_type": "markdown",
   "metadata": {},
   "source": [
    "## Get the specimen data spreadsheet ready for GenBank upload"
   ]
  },
  {
   "cell_type": "code",
   "execution_count": 10,
   "metadata": {
    "collapsed": true
   },
   "outputs": [],
   "source": [
    "# Read csv in using R -- hopefully dropping unnecessary columns right away"
   ]
  },
  {
   "cell_type": "code",
   "execution_count": 11,
   "metadata": {
    "collapsed": true
   },
   "outputs": [],
   "source": [
    "# Now drop unnecessary rows"
   ]
  },
  {
   "cell_type": "code",
   "execution_count": 12,
   "metadata": {
    "collapsed": true
   },
   "outputs": [],
   "source": [
    "# Perform any necessary transformations, like collection date and/or lat_lon formatting"
   ]
  },
  {
   "cell_type": "code",
   "execution_count": 13,
   "metadata": {
    "collapsed": true
   },
   "outputs": [],
   "source": [
    "# Export in whatever format is required"
   ]
  },
  {
   "cell_type": "markdown",
   "metadata": {},
   "source": [
    "## Finally, package all together to submit to GenBank"
   ]
  },
  {
   "cell_type": "markdown",
   "metadata": {
    "collapsed": true
   },
   "source": [
    "We've finally come to the part where we put everything together, and make a GenBank submission package! We'll be using *tbl2asn* to do this. You can read more about it here: http://www.ncbi.nlm.nih.gov/genbank/tbl2asn2/"
   ]
  },
  {
   "cell_type": "markdown",
   "metadata": {},
   "source": [
    "Based on the documentation, we're going to need 4 different files that *tbl2asn* will wrap together into our submission:\n",
    "\n",
    "* A \"template file\", which contains all of the submitter contact information, and also sequence authorship (suffix .sbt). NCBI has a website where you can fill out a form, and it will generate one for you: https://submit.ncbi.nlm.nih.gov/genbank/template/submission/\n",
    "* Nucleotide sequence data in FASTA format (suffix .fsa).\n",
    "* A \"feature table\", which contains the sequence annotations, such as gene and CDS data (suffix .tbl)\n",
    "* A \"source modifiers table\", which is a tab-delimited table that contains all of the specimen metadata for your sequences (suffix .src)\n"
   ]
  },
  {
   "cell_type": "code",
   "execution_count": 1,
   "metadata": {
    "collapsed": false
   },
   "outputs": [
    {
     "name": "stderr",
     "output_type": "stream",
     "text": [
      "[tbl2asn 24.9] Flatfile barcodes_to_submit\n",
      "\n",
      "[tbl2asn 24.9] Validating barcodes_to_submit\n",
      "\n"
     ]
    }
   ],
   "source": [
    "%%bash\n",
    "tbl2asn -t genbank_upload/template.sbt -p genbank_upload -V vb -a s"
   ]
  },
  {
   "cell_type": "code",
   "execution_count": null,
   "metadata": {
    "collapsed": true
   },
   "outputs": [],
   "source": []
  }
 ],
 "metadata": {
  "kernelspec": {
   "display_name": "System Python",
   "language": "python",
   "name": "root_python"
  },
  "language_info": {
   "codemirror_mode": {
    "name": "ipython",
    "version": 2
   },
   "file_extension": ".py",
   "mimetype": "text/x-python",
   "name": "python",
   "nbconvert_exporter": "python",
   "pygments_lexer": "ipython2",
   "version": "2.7.11"
  }
 },
 "nbformat": 4,
 "nbformat_minor": 0
}
